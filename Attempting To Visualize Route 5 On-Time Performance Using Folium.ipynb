{
 "cells": [
  {
   "cell_type": "code",
   "execution_count": null,
   "metadata": {},
   "outputs": [],
   "source": []
  },
  {
   "cell_type": "code",
   "execution_count": 75,
   "metadata": {},
   "outputs": [],
   "source": [
    "import folium\n",
    "import pandas as pd\n",
    "\n",
    "#read in the Google Sheets called route5_on_time_performance\n",
    "data = pd.read_csv(\"route5_on_time_performance.csv\")\n",
    "#Goal: for every row, make a tuple of (latitude, longitude) + other details --> giant list of info per stop\n",
    "\n",
    "other_coordinate_info = []\n",
    "for index, row in data.iterrows(): \n",
    "    tuples = (row['stop_lat'], row['stop_lon'])\n",
    "    stop = [tuples, row['stop_id'], row['number_of_times'], row['average_on_time_performance_seconds'], row['stop_name']]\n",
    "    other_coordinate_info.append(stop)\n",
    "    \n",
    "#other_coordinate_info contain: (lat, long), stop_id, number of times, average on-time, stop_name\n"
   ]
  },
  {
   "cell_type": "code",
   "execution_count": 85,
   "metadata": {},
   "outputs": [
    {
     "data": {
      "text/plain": [
       "[(33.922703000000006, -84.37921800000001),\n",
       " 902700,\n",
       " 28,\n",
       " 86.0,\n",
       " 'ROSWELL RD NE @ HILDERBRAND DR']"
      ]
     },
     "execution_count": 85,
     "metadata": {},
     "output_type": "execute_result"
    }
   ],
   "source": [
    "other_coordinate_info[0]"
   ]
  },
  {
   "cell_type": "code",
   "execution_count": null,
   "metadata": {},
   "outputs": [],
   "source": [
    "#Create a base map using coordinates of Atlanta\n",
    "m = folium.Map(location=[33.7490, -84.3880])\n",
    "\n",
    "#add markers\n",
    "for stop in other_coordinate_info:\n",
    "    info = 'stop_id: {}, num_of_times: {}, avg_ontime_seconds: {}, stop_name: {}'.format(stop[1], stop[2], stop[3], stop[4])\n",
    "    if stop[3] > 600:\n",
    "        folium.Marker(stop[0], popup = info, icon=folium.Icon(color='black')).add_to(m)\n",
    "    if ((stop[3] < 600) & (stop[3] >= 300)):\n",
    "        folium.Marker(stop[0], popup = info, icon=folium.Icon(color='red')).add_to(m)\n",
    "    if ((stop[3] < 300) & (stop[3] >= 0)): \n",
    "        folium.Marker(stop[0], popup = info, icon=folium.Icon(color='white')).add_to(m)\n",
    "    if ((stop[3] > -300) & (stop[3] < 0)): \n",
    "        folium.Marker(stop[0], popup = info, icon=folium.Icon(color='blue')).add_to(m)\n",
    "    if ((stop[3] > -600) & (stop[3] < -300)): \n",
    "        folium.Marker(stop[0], popup = info, icon=folium.Icon(color='orange')).add_to(m)\n",
    "    \n",
    "#add lines\n",
    "#folium.PolyLine(coordinates, color=\"red\", weight=2.5, opacity=1).add_to(m)\n",
    "m"
   ]
  }
 ],
 "metadata": {
  "kernelspec": {
   "display_name": "Python 3",
   "language": "python",
   "name": "python3"
  },
  "language_info": {
   "codemirror_mode": {
    "name": "ipython",
    "version": 3
   },
   "file_extension": ".py",
   "mimetype": "text/x-python",
   "name": "python",
   "nbconvert_exporter": "python",
   "pygments_lexer": "ipython3",
   "version": "3.7.3"
  }
 },
 "nbformat": 4,
 "nbformat_minor": 2
}
